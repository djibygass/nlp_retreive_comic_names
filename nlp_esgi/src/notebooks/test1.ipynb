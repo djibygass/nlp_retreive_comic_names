{
 "cells": [
  {
   "cell_type": "code",
   "execution_count": 1,
   "id": "initial_id",
   "metadata": {
    "collapsed": true,
    "ExecuteTime": {
     "end_time": "2023-10-12T09:02:47.470592Z",
     "start_time": "2023-10-12T09:02:46.444770Z"
    }
   },
   "outputs": [],
   "source": [
    "import pandas as pd"
   ]
  },
  {
   "cell_type": "code",
   "execution_count": 5,
   "outputs": [],
   "source": [
    "df = pd.read_csv('/Users/Gassama/5IABD/NLP/projets/TD1/nlp_esgi/src/data/raw/train.csv')"
   ],
   "metadata": {
    "collapsed": false,
    "ExecuteTime": {
     "end_time": "2023-10-12T09:04:01.230571Z",
     "start_time": "2023-10-12T09:04:01.210191Z"
    }
   },
   "id": "d6ccf60ec4b1d1f3"
  },
  {
   "cell_type": "code",
   "execution_count": 6,
   "outputs": [
    {
     "data": {
      "text/plain": "                                            video_name  \\\n0    Le Barbecue Disney - La chanson de Frédéric Fr...   \n1    Le Roi et l'Oiseau - La Chronique de Christine...   \n2    L'amour du lac - La chronique d'Hippolyte Gira...   \n3    La fille de la piscine de Léa Tourret - La chr...   \n4    \"Le soleil va moins faire son malin quand Jean...   \n..                                                 ...   \n994  Au Ces de Las Vegas des innovations à gogo et ...   \n995  Le questionnaire Jupiproust de Frédérique Matonti   \n996          Raphael - La Nuit N'en Finit Plus (cover)   \n997  Des sachets de drogue estampillés Haribeu sais...   \n998  \"1984\" par Xavier Coste : Prix Bd Fnac France ...   \n\n                                               is_name  is_comic  \\\n0                          [0, 0, 0, 0, 0, 0, 0, 1, 1]         1   \n1                    [0, 0, 0, 0, 0, 0, 0, 0, 0, 1, 1]         1   \n2                       [0, 0, 0, 0, 0, 0, 0, 0, 1, 1]         1   \n3           [0, 0, 0, 0, 0, 0, 0, 0, 0, 0, 0, 0, 1, 1]         0   \n4    [0, 0, 0, 0, 0, 0, 0, 0, 1, 0, 0, 0, 0, 0, 0, ...         0   \n..                                                 ...       ...   \n994   [0, 0, 0, 0, 0, 0, 0, 0, 0, 0, 0, 0, 0, 0, 0, 0]         0   \n995                                 [0, 0, 0, 0, 0, 0]         1   \n996                        [0, 0, 0, 0, 0, 0, 0, 0, 0]         0   \n997  [0, 0, 0, 0, 0, 0, 0, 0, 0, 0, 0, 0, 0, 0, 0, ...         1   \n998                  [0, 0, 0, 0, 0, 0, 0, 0, 0, 0, 0]         0   \n\n                 comic_name  \n0       [\"Frédéric Fromet\"]  \n1    [\"Christine Gonzalez\"]  \n2    [\"Hippolyte Girardot\"]  \n3                        []  \n4                        []  \n..                      ...  \n994                      []  \n995                      []  \n996                      []  \n997                      []  \n998                      []  \n\n[999 rows x 4 columns]",
      "text/html": "<div>\n<style scoped>\n    .dataframe tbody tr th:only-of-type {\n        vertical-align: middle;\n    }\n\n    .dataframe tbody tr th {\n        vertical-align: top;\n    }\n\n    .dataframe thead th {\n        text-align: right;\n    }\n</style>\n<table border=\"1\" class=\"dataframe\">\n  <thead>\n    <tr style=\"text-align: right;\">\n      <th></th>\n      <th>video_name</th>\n      <th>is_name</th>\n      <th>is_comic</th>\n      <th>comic_name</th>\n    </tr>\n  </thead>\n  <tbody>\n    <tr>\n      <th>0</th>\n      <td>Le Barbecue Disney - La chanson de Frédéric Fr...</td>\n      <td>[0, 0, 0, 0, 0, 0, 0, 1, 1]</td>\n      <td>1</td>\n      <td>[\"Frédéric Fromet\"]</td>\n    </tr>\n    <tr>\n      <th>1</th>\n      <td>Le Roi et l'Oiseau - La Chronique de Christine...</td>\n      <td>[0, 0, 0, 0, 0, 0, 0, 0, 0, 1, 1]</td>\n      <td>1</td>\n      <td>[\"Christine Gonzalez\"]</td>\n    </tr>\n    <tr>\n      <th>2</th>\n      <td>L'amour du lac - La chronique d'Hippolyte Gira...</td>\n      <td>[0, 0, 0, 0, 0, 0, 0, 0, 1, 1]</td>\n      <td>1</td>\n      <td>[\"Hippolyte Girardot\"]</td>\n    </tr>\n    <tr>\n      <th>3</th>\n      <td>La fille de la piscine de Léa Tourret - La chr...</td>\n      <td>[0, 0, 0, 0, 0, 0, 0, 0, 0, 0, 0, 0, 1, 1]</td>\n      <td>0</td>\n      <td>[]</td>\n    </tr>\n    <tr>\n      <th>4</th>\n      <td>\"Le soleil va moins faire son malin quand Jean...</td>\n      <td>[0, 0, 0, 0, 0, 0, 0, 0, 1, 0, 0, 0, 0, 0, 0, ...</td>\n      <td>0</td>\n      <td>[]</td>\n    </tr>\n    <tr>\n      <th>...</th>\n      <td>...</td>\n      <td>...</td>\n      <td>...</td>\n      <td>...</td>\n    </tr>\n    <tr>\n      <th>994</th>\n      <td>Au Ces de Las Vegas des innovations à gogo et ...</td>\n      <td>[0, 0, 0, 0, 0, 0, 0, 0, 0, 0, 0, 0, 0, 0, 0, 0]</td>\n      <td>0</td>\n      <td>[]</td>\n    </tr>\n    <tr>\n      <th>995</th>\n      <td>Le questionnaire Jupiproust de Frédérique Matonti</td>\n      <td>[0, 0, 0, 0, 0, 0]</td>\n      <td>1</td>\n      <td>[]</td>\n    </tr>\n    <tr>\n      <th>996</th>\n      <td>Raphael - La Nuit N'en Finit Plus (cover)</td>\n      <td>[0, 0, 0, 0, 0, 0, 0, 0, 0]</td>\n      <td>0</td>\n      <td>[]</td>\n    </tr>\n    <tr>\n      <th>997</th>\n      <td>Des sachets de drogue estampillés Haribeu sais...</td>\n      <td>[0, 0, 0, 0, 0, 0, 0, 0, 0, 0, 0, 0, 0, 0, 0, ...</td>\n      <td>1</td>\n      <td>[]</td>\n    </tr>\n    <tr>\n      <th>998</th>\n      <td>\"1984\" par Xavier Coste : Prix Bd Fnac France ...</td>\n      <td>[0, 0, 0, 0, 0, 0, 0, 0, 0, 0, 0]</td>\n      <td>0</td>\n      <td>[]</td>\n    </tr>\n  </tbody>\n</table>\n<p>999 rows × 4 columns</p>\n</div>"
     },
     "execution_count": 6,
     "metadata": {},
     "output_type": "execute_result"
    }
   ],
   "source": [
    "df"
   ],
   "metadata": {
    "collapsed": false,
    "ExecuteTime": {
     "end_time": "2023-10-12T09:04:04.422348Z",
     "start_time": "2023-10-12T09:04:04.387209Z"
    }
   },
   "id": "7c49bd002142b713"
  },
  {
   "cell_type": "code",
   "execution_count": null,
   "outputs": [],
   "source": [],
   "metadata": {
    "collapsed": false
   },
   "id": "52b16a6e6d7ed61c"
  }
 ],
 "metadata": {
  "kernelspec": {
   "display_name": "Python 3",
   "language": "python",
   "name": "python3"
  },
  "language_info": {
   "codemirror_mode": {
    "name": "ipython",
    "version": 2
   },
   "file_extension": ".py",
   "mimetype": "text/x-python",
   "name": "python",
   "nbconvert_exporter": "python",
   "pygments_lexer": "ipython2",
   "version": "2.7.6"
  }
 },
 "nbformat": 4,
 "nbformat_minor": 5
}
